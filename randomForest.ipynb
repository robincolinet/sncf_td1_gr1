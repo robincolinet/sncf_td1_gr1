{
 "cells": [
  {
   "cell_type": "code",
   "execution_count": null,
   "metadata": {},
   "outputs": [],
   "source": [
    "from preprocessing import load_data, preprocess_time, preprocess_gares"
   ]
  },
  {
   "cell_type": "code",
   "execution_count": 3,
   "metadata": {},
   "outputs": [
    {
     "name": "stderr",
     "output_type": "stream",
     "text": [
      "C:\\Users\\User\\AppData\\Local\\Temp\\ipykernel_23936\\2034096191.py:57: SettingWithCopyWarning: \n",
      "A value is trying to be set on a copy of a slice from a DataFrame.\n",
      "Try using .loc[row_indexer,col_indexer] = value instead\n",
      "\n",
      "See the caveats in the documentation: https://pandas.pydata.org/pandas-docs/stable/user_guide/indexing.html#returning-a-view-versus-a-copy\n",
      "  X['majority_class'] = df['majority_class']\n"
     ]
    },
    {
     "name": "stdout",
     "output_type": "stream",
     "text": [
      "Fitting 5 folds for each of 200 candidates, totalling 1000 fits\n"
     ]
    },
    {
     "name": "stderr",
     "output_type": "stream",
     "text": [
      "C:\\Users\\User\\AppData\\Roaming\\Python\\Python310\\site-packages\\sklearn\\ensemble\\_forest.py:416: FutureWarning: `max_features='auto'` has been deprecated in 1.1 and will be removed in 1.3. To keep the past behaviour, explicitly set `max_features=1.0` or remove this parameter as it is also the default value for RandomForestRegressors and ExtraTreesRegressors.\n",
      "  warn(\n"
     ]
    },
    {
     "name": "stdout",
     "output_type": "stream",
     "text": [
      "{'n_estimators': 100, 'min_samples_split': 5, 'min_samples_leaf': 8, 'max_features': 'auto', 'max_depth': 20, 'bootstrap': True}\n",
      "Mean Squared Error with RandomizedSearch: 189.75042769012546\n",
      "Mean Absolute Error with RandomizedSearch: 8.504755052412776\n",
      "Mean Absolute Percentage Error with RandomizedSearch: nan\n",
      "R2 Score with RandomizedSearch: 0.2985856034636819\n"
     ]
    },
    {
     "name": "stderr",
     "output_type": "stream",
     "text": [
      "C:\\Users\\User\\AppData\\Local\\Temp\\ipykernel_23936\\2034096191.py:17: RuntimeWarning: divide by zero encountered in divide\n",
      "  return np.mean(np.abs((y_true - y_pred) / y_true)) * 100\n",
      "C:\\Users\\User\\AppData\\Local\\Temp\\ipykernel_23936\\2034096191.py:17: RuntimeWarning: invalid value encountered in divide\n",
      "  return np.mean(np.abs((y_true - y_pred) / y_true)) * 100\n"
     ]
    }
   ],
   "source": [
    "import pandas as pd\n",
    "import numpy as np\n",
    "from sklearn.model_selection import train_test_split\n",
    "from sklearn.ensemble import RandomForestRegressor\n",
    "from sklearn.metrics import mean_squared_error\n",
    "from sklearn.model_selection import RandomizedSearchCV\n",
    "from sklearn.metrics import mean_absolute_error\n",
    "from sklearn.metrics import r2_score\n",
    "from sklearn.preprocessing import LabelEncoder\n",
    "from sklearn.cluster import KMeans\n",
    "import matplotlib.pyplot as plt\n",
    "from collections import Counter\n",
    "\n",
    "def mean_absolute_percentage_error(y_true, y_pred): \n",
    "    y_true, y_pred = np.array(y_true), np.array(y_pred)\n",
    "    return np.mean(np.abs((y_true - y_pred) / y_true)) * 100\n",
    "\n",
    "df = load_data()\n",
    "df = preprocess_time(df)\n",
    "preprocess_gares(df)\n",
    "\n",
    "X = df[['service', 'gare_depart', 'gare_arrivee', 'duree_moyenne', 'nb_train_prevu', 'ligne', 'mois']]\n",
    "y = df['retard_moyen_arrivee']\n",
    "\n",
    "#Ajout du clustering\n",
    "\n",
    "label_encoder = LabelEncoder()\n",
    "interactions_encoded = label_encoder.fit_transform(df['ligne']).reshape(-1, 1)\n",
    "\n",
    "# One-Hot Encoding pour les colonnes catégorielles\n",
    "X_cluster = pd.get_dummies(df, columns=['date','gare_depart', 'gare_arrivee', 'service', 'ligne'])\n",
    "X_cluster = X_cluster.drop(['commentaire_annulation', 'commentaire_retards_depart', 'commentaires_retard_arrivee'], axis=1)\n",
    "\n",
    "k_optimal = 3\n",
    "kmeans = KMeans(n_clusters=k_optimal, random_state=42)\n",
    "df['cluster'] = kmeans.fit_predict(X_cluster)\n",
    "\n",
    "majority_class = {}\n",
    "lignes= df['ligne'].unique()\n",
    "for ligne in lignes:\n",
    "    cluster_labels = df[df['ligne'] == ligne]['cluster'].tolist()\n",
    "    majority_label = Counter(cluster_labels).most_common(1)[0][0]\n",
    "    majority_class[ligne] = majority_label\n",
    "\n",
    "\n",
    "df['majority_class'] = df['ligne'].map(majority_class)\n",
    "\n",
    "X['majority_class'] = df['majority_class']\n",
    "\n",
    "\n",
    "# One-Hot Encoding pour les colonnes catégorielles\n",
    "X = pd.get_dummies(X, columns=['gare_depart', 'gare_arrivee', 'service', 'ligne'])\n",
    "\n",
    "X_train, X_test, y_train, y_test = train_test_split(X, y, test_size=0.2, random_state=42)\n",
    "\n",
    "# Création du modèle avec recherche d'hyperparamètres optimaux\n",
    "param_grid = {\n",
    "    'n_estimators': [10, 30, 50],\n",
    "    'max_features': ['auto', 'sqrt', 'log2'],\n",
    "    'max_depth': [None, 5, 10, 25],\n",
    "    'min_samples_split': [2, 5, 10],\n",
    "    'min_samples_leaf': [1, 2, 4],\n",
    "    'bootstrap': [True]\n",
    "}\n",
    "\n",
    "param_grid_randomized = {\n",
    "    'n_estimators': [50, 100],\n",
    "    'max_features': ['auto', 'sqrt', 'log2'],\n",
    "    'max_depth': [None, 5, 10, 20, 50, 75],\n",
    "    'min_samples_split': [2, 5, 10],\n",
    "    'min_samples_leaf': [2, 4, 8],\n",
    "    'bootstrap': [True, False]\n",
    "}\n",
    "\n",
    "\n",
    "rf = RandomForestRegressor()\n",
    "\n",
    "#grid_search = GridSearchCV(estimator=rf, param_grid=param_grid, cv=5, n_jobs=-1, verbose=0)\n",
    "#grid_search.fit(X_train, y_train)\n",
    "\n",
    "# Recherche aléatoire avec validation croisée\n",
    "rf_search = RandomizedSearchCV(rf, param_distributions=param_grid_randomized, n_iter=200, cv=5, verbose=2, n_jobs=-1, random_state=42)\n",
    "rf_search.fit(X_train, y_train)\n",
    "\n",
    "# Meilleurs hyperparamètres\n",
    "print(rf_search.best_params_)\n",
    "\n",
    "#y_pred_grid = grid_search.best_estimator_.predict(X_test)\n",
    "y_pred_randomized = rf_search.best_estimator_.predict(X_test)\n",
    "\n",
    "#mse_grid = mean_squared_error(y_test, y_pred_grid)\n",
    "#print(f\"Mean Squared Error with GridSearch: {mse_grid}\")\n",
    "\n",
    "mae = mean_absolute_error(y_test, y_pred_randomized)\n",
    "mse_randomized = mean_squared_error(y_test, y_pred_randomized)\n",
    "mape = mean_absolute_percentage_error(y_test, y_pred_randomized)\n",
    "r2 = r2_score(y_test, y_pred_randomized)\n",
    "\n",
    "print(f\"Mean Squared Error with RandomizedSearch: {mse_randomized}\")\n",
    "print(f\"Mean Absolute Error with RandomizedSearch: {mae}\")\n",
    "print(f\"Mean Absolute Percentage Error with RandomizedSearch: {mape}\")\n",
    "print(f\"R2 Score with RandomizedSearch: {r2}\")"
   ]
  },
  {
   "cell_type": "code",
   "execution_count": 5,
   "metadata": {},
   "outputs": [],
   "source": [
    "optimal_params = rf_search.best_estimator_.get_params()"
   ]
  },
  {
   "cell_type": "code",
   "execution_count": 6,
   "metadata": {},
   "outputs": [
    {
     "data": {
      "text/plain": [
       "{'bootstrap': True,\n",
       " 'ccp_alpha': 0.0,\n",
       " 'criterion': 'squared_error',\n",
       " 'max_depth': 20,\n",
       " 'max_features': 'auto',\n",
       " 'max_leaf_nodes': None,\n",
       " 'max_samples': None,\n",
       " 'min_impurity_decrease': 0.0,\n",
       " 'min_samples_leaf': 8,\n",
       " 'min_samples_split': 5,\n",
       " 'min_weight_fraction_leaf': 0.0,\n",
       " 'n_estimators': 100,\n",
       " 'n_jobs': None,\n",
       " 'oob_score': False,\n",
       " 'random_state': None,\n",
       " 'verbose': 0,\n",
       " 'warm_start': False}"
      ]
     },
     "execution_count": 6,
     "metadata": {},
     "output_type": "execute_result"
    }
   ],
   "source": [
    "optimal_params"
   ]
  },
  {
   "cell_type": "code",
   "execution_count": 10,
   "metadata": {},
   "outputs": [],
   "source": [
    "import pandas as pd\n",
    "import numpy as np\n",
    "from sklearn.ensemble import RandomForestRegressor\n",
    "\n",
    "from sklearn.feature_selection import SequentialFeatureSelector\n",
    "\n",
    "def mean_absolute_percentage_error(y_true, y_pred): \n",
    "    y_true, y_pred = np.array(y_true), np.array(y_pred)\n",
    "    return np.mean(np.abs((y_true - y_pred) / y_true)) * 100\n",
    "\n",
    "rf_opt = RandomForestRegressor(**optimal_params)\n",
    "\n",
    "#grid_search = GridSearchCV(estimator=rf, param_grid=param_grid, cv=5, n_jobs=-1, verbose=0)\n",
    "#grid_search.fit(X_train, y_train)\n",
    "\n",
    "# Recherche aléatoire avec validation croisée\n",
    "fsr_search = SequentialFeatureSelector(rf_opt, n_features_to_select=1.0, cv=5, n_jobs=-1)\n",
    "\n",
    "fsr_search.fit(X_train, y_train)\n",
    "\n",
    "print('Params: ', fsr_search.get_params())\n",
    "print('Support: ', fsr_search.get_support())\n",
    "\n",
    "mae = mean_absolute_error(y_test, y_pred_randomized)\n",
    "mse_randomized = mean_squared_error(y_test, y_pred_randomized)\n",
    "mape = mean_absolute_percentage_error(y_test, y_pred_randomized)\n",
    "r2 = r2_score(y_test, y_pred_randomized)\n",
    "\n",
    "print(f\"Mean Squared Error with RandomizedSearch: {mse_randomized}\")\n",
    "print(f\"Mean Absolute Error with RandomizedSearch: {mae}\")\n",
    "print(f\"Mean Absolute Percentage Error with RandomizedSearch: {mape}\")\n",
    "print(f\"R2 Score with RandomizedSearch: {r2}\")"
   ]
  },
  {
   "cell_type": "code",
   "execution_count": null,
   "metadata": {},
   "outputs": [
    {
     "name": "stdout",
     "output_type": "stream",
     "text": [
      "Index(['duree_moyenne', 'nb_train_prevu', 'nb_annulation',\n",
      "       'nb_train_depart_retard', 'retard_moyen_depart',\n",
      "       'retard_moyen_tous_trains_depart', 'nb_train_retard_arrivee',\n",
      "       'retard_moyen_arrivee', 'retard_moyen_tous_trains_arrivee',\n",
      "       'nb_train_retard_sup_15',\n",
      "       ...\n",
      "       'ligne_STRASBOURG-PARIS EST', 'ligne_STUTTGART-PARIS EST',\n",
      "       'ligne_TOULON-PARIS LYON', 'ligne_TOULOUSE MATABIAU-PARIS MONTPARNASSE',\n",
      "       'ligne_TOURCOING-BORDEAUX ST JEAN',\n",
      "       'ligne_TOURCOING-MARSEILLE ST CHARLES',\n",
      "       'ligne_TOURS-PARIS MONTPARNASSE', 'ligne_VALENCE ALIXAN TGV-PARIS LYON',\n",
      "       'ligne_VANNES-PARIS MONTPARNASSE', 'ligne_ZURICH-PARIS LYON'],\n",
      "      dtype='object', length=338)\n"
     ]
    },
    {
     "name": "stderr",
     "output_type": "stream",
     "text": [
      "/Users/yanivbenchetrit/opt/anaconda3/lib/python3.8/site-packages/sklearn/cluster/_kmeans.py:1416: FutureWarning: The default value of `n_init` will change from 10 to 'auto' in 1.4. Set the value of `n_init` explicitly to suppress the warning\n",
      "  super()._check_params_vs_input(X, default_n_init=10)\n",
      "/Users/yanivbenchetrit/opt/anaconda3/lib/python3.8/site-packages/sklearn/cluster/_kmeans.py:1416: FutureWarning: The default value of `n_init` will change from 10 to 'auto' in 1.4. Set the value of `n_init` explicitly to suppress the warning\n",
      "  super()._check_params_vs_input(X, default_n_init=10)\n",
      "/Users/yanivbenchetrit/opt/anaconda3/lib/python3.8/site-packages/sklearn/cluster/_kmeans.py:1416: FutureWarning: The default value of `n_init` will change from 10 to 'auto' in 1.4. Set the value of `n_init` explicitly to suppress the warning\n",
      "  super()._check_params_vs_input(X, default_n_init=10)\n",
      "/Users/yanivbenchetrit/opt/anaconda3/lib/python3.8/site-packages/sklearn/cluster/_kmeans.py:1416: FutureWarning: The default value of `n_init` will change from 10 to 'auto' in 1.4. Set the value of `n_init` explicitly to suppress the warning\n",
      "  super()._check_params_vs_input(X, default_n_init=10)\n",
      "/Users/yanivbenchetrit/opt/anaconda3/lib/python3.8/site-packages/sklearn/cluster/_kmeans.py:1416: FutureWarning: The default value of `n_init` will change from 10 to 'auto' in 1.4. Set the value of `n_init` explicitly to suppress the warning\n",
      "  super()._check_params_vs_input(X, default_n_init=10)\n",
      "/Users/yanivbenchetrit/opt/anaconda3/lib/python3.8/site-packages/sklearn/cluster/_kmeans.py:1416: FutureWarning: The default value of `n_init` will change from 10 to 'auto' in 1.4. Set the value of `n_init` explicitly to suppress the warning\n",
      "  super()._check_params_vs_input(X, default_n_init=10)\n",
      "/Users/yanivbenchetrit/opt/anaconda3/lib/python3.8/site-packages/sklearn/cluster/_kmeans.py:1416: FutureWarning: The default value of `n_init` will change from 10 to 'auto' in 1.4. Set the value of `n_init` explicitly to suppress the warning\n",
      "  super()._check_params_vs_input(X, default_n_init=10)\n",
      "/Users/yanivbenchetrit/opt/anaconda3/lib/python3.8/site-packages/sklearn/cluster/_kmeans.py:1416: FutureWarning: The default value of `n_init` will change from 10 to 'auto' in 1.4. Set the value of `n_init` explicitly to suppress the warning\n",
      "  super()._check_params_vs_input(X, default_n_init=10)\n",
      "/Users/yanivbenchetrit/opt/anaconda3/lib/python3.8/site-packages/sklearn/cluster/_kmeans.py:1416: FutureWarning: The default value of `n_init` will change from 10 to 'auto' in 1.4. Set the value of `n_init` explicitly to suppress the warning\n",
      "  super()._check_params_vs_input(X, default_n_init=10)\n"
     ]
    },
    {
     "data": {
      "image/png": "[encoded data removed]",
      "text/plain": [
       "<Figure size 1000x600 with 1 Axes>"
      ]
     },
     "metadata": {},
     "output_type": "display_data"
    }
   ],
   "source": [
    "#Clustering par ligne\n",
    "\n",
    "# Encodage des labels pour gare_interaction\n",
    "label_encoder = LabelEncoder()\n",
    "interactions_encoded = label_encoder.fit_transform(df['ligne']).reshape(-1, 1)\n",
    "\n",
    "# One-Hot Encoding pour les colonnes catégorielles\n",
    "X = pd.get_dummies(df, columns=['date','gare_depart', 'gare_arrivee', 'service', 'ligne'])\n",
    "X = X.drop(['commentaire_annulation', 'commentaire_retards_depart', 'commentaires_retard_arrivee'], axis=1)\n",
    "\n",
    "print(X.columns)\n",
    "\n",
    "# Utilisation de la méthode du coude pour déterminer le nombre optimal de clusters\n",
    "distortions = []\n",
    "K = range(1, 10) # Vous pouvez ajuster la plage selon vos besoins\n",
    "for k in K:\n",
    "    kmeanModel = KMeans(n_clusters=k)\n",
    "    kmeanModel.fit(X)\n",
    "    distortions.append(kmeanModel.inertia_)\n",
    "\n",
    "plt.figure(figsize=(10, 6))\n",
    "plt.plot(K, distortions, 'bx-')\n",
    "plt.xlabel('k')\n",
    "plt.ylabel('Distortion')\n",
    "plt.title('Méthode du elbow pour déterminer le nombre optimal de clusters')\n",
    "plt.show()\n"
   ]
  },
  {
   "cell_type": "code",
   "execution_count": null,
   "metadata": {},
   "outputs": [
    {
     "name": "stderr",
     "output_type": "stream",
     "text": [
      "/Users/yanivbenchetrit/opt/anaconda3/lib/python3.8/site-packages/sklearn/cluster/_kmeans.py:1416: FutureWarning: The default value of `n_init` will change from 10 to 'auto' in 1.4. Set the value of `n_init` explicitly to suppress the warning\n",
      "  super()._check_params_vs_input(X, default_n_init=10)\n"
     ]
    },
    {
     "name": "stdout",
     "output_type": "stream",
     "text": [
      "                                       ligne  cluster\n",
      "0        BORDEAUX ST JEAN-PARIS MONTPARNASSE        1\n",
      "1       LA ROCHELLE VILLE-PARIS MONTPARNASSE        2\n",
      "2                 PARIS MONTPARNASSE-QUIMPER        2\n",
      "3                 PARIS MONTPARNASSE-ST MALO        0\n",
      "4     PARIS MONTPARNASSE-ST PIERRE DES CORPS        2\n",
      "...                                      ...      ...\n",
      "8149                    STRASBOURG-PARIS EST        1\n",
      "8150    TOULOUSE MATABIAU-PARIS MONTPARNASSE        0\n",
      "8151                TOURS-PARIS MONTPARNASSE        2\n",
      "8152           VALENCE ALIXAN TGV-PARIS LYON        1\n",
      "8153               VANNES-PARIS MONTPARNASSE        2\n",
      "\n",
      "[8154 rows x 2 columns]\n",
      "0       1\n",
      "1       2\n",
      "2       2\n",
      "3       0\n",
      "4       1\n",
      "       ..\n",
      "8149    1\n",
      "8150    0\n",
      "8151    2\n",
      "8152    2\n",
      "8153    2\n",
      "Name: majority_class, Length: 8154, dtype: int64\n"
     ]
    }
   ],
   "source": [
    "k_optimal = 3\n",
    "kmeans = KMeans(n_clusters=k_optimal, random_state=42)\n",
    "df['cluster'] = kmeans.fit_predict(X)\n",
    "\n",
    "print(df[['ligne', 'cluster']])\n",
    "\n",
    "\n",
    "\n",
    "majority_class = {}\n",
    "lignes= df['ligne'].unique()\n",
    "for ligne in lignes:\n",
    "    cluster_labels = df[df['ligne'] == ligne]['cluster'].tolist()\n",
    "    majority_label = Counter(cluster_labels).most_common(1)[0][0]\n",
    "    majority_class[ligne] = majority_label\n",
    "\n",
    "\n",
    "df['majority_class'] = df['ligne'].map(majority_class)\n",
    "\n",
    "X['majority_class'] = df['majority_class']\n",
    "\n",
    "print(X['majority_class'])"
   ]
  }
 ],
 "metadata": {
  "kernelspec": {
   "display_name": "Python 3.8.16 ('base')",
   "language": "python",
   "name": "python3"
  },
  "language_info": {
   "codemirror_mode": {
    "name": "ipython",
    "version": 3
   },
   "file_extension": ".py",
   "mimetype": "text/x-python",
   "name": "python",
   "nbconvert_exporter": "python",
   "pygments_lexer": "ipython3",
   "version": "3.10.5"
  },
  "orig_nbformat": 4,
  "vscode": {
   "interpreter": {
    "hash": "5647cfce6fa2861c5d5993eed494c4303d5a706b1125d41555b49a965ed01245"
   }
  }
 },
 "nbformat": 4,
 "nbformat_minor": 2
}
